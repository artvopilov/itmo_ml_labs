{
 "cells": [
  {
   "cell_type": "code",
   "execution_count": 21,
   "metadata": {},
   "outputs": [],
   "source": [
    "import os, sys, inspect\n",
    "current_dir = os.path.dirname(os.path.abspath(inspect.getfile(inspect.currentframe())))\n",
    "parent_dir = os.path.dirname(current_dir)\n",
    "sys.path.insert(0, parent_dir) \n",
    "from knn_regression_cf import *\n",
    "from f1_measure_cf import *\n",
    "\n",
    "from collections import defaultdict\n",
    "\n",
    "import pandas as pd\n",
    "import numpy as np\n",
    "from matplotlib import pyplot as plt\n",
    "\n",
    "import math"
   ]
  },
  {
   "cell_type": "markdown",
   "metadata": {},
   "source": [
    "# Prepare data"
   ]
  },
  {
   "cell_type": "code",
   "execution_count": 22,
   "metadata": {},
   "outputs": [],
   "source": [
    "geyser_dataset_path = '/home/artem/Documents/ITMO/Master/ML/Datasets/geyser.csv'\n",
    "chips_dataset_path = '/home/artem/Documents/ITMO/Master/ML/Datasets/chips.csv'\n",
    "dataset_columns = ['x', 'y', 'class']\n",
    "\n",
    "geyser_dataset = pd.read_csv(geyser_dataset_path, sep=',', header=0, names=dataset_columns)\n",
    "chips_dataset = pd.read_csv(chips_dataset_path, sep=',', header=0, names=dataset_columns)"
   ]
  },
  {
   "cell_type": "markdown",
   "metadata": {},
   "source": [
    "### Geyser dataset"
   ]
  },
  {
   "cell_type": "code",
   "execution_count": 23,
   "metadata": {},
   "outputs": [
    {
     "data": {
      "text/html": [
       "<div>\n",
       "<style scoped>\n",
       "    .dataframe tbody tr th:only-of-type {\n",
       "        vertical-align: middle;\n",
       "    }\n",
       "\n",
       "    .dataframe tbody tr th {\n",
       "        vertical-align: top;\n",
       "    }\n",
       "\n",
       "    .dataframe thead th {\n",
       "        text-align: right;\n",
       "    }\n",
       "</style>\n",
       "<table border=\"1\" class=\"dataframe\">\n",
       "  <thead>\n",
       "    <tr style=\"text-align: right;\">\n",
       "      <th></th>\n",
       "      <th>x</th>\n",
       "      <th>y</th>\n",
       "      <th>class</th>\n",
       "    </tr>\n",
       "  </thead>\n",
       "  <tbody>\n",
       "    <tr>\n",
       "      <th>0</th>\n",
       "      <td>1</td>\n",
       "      <td>4.4</td>\n",
       "      <td>N</td>\n",
       "    </tr>\n",
       "    <tr>\n",
       "      <th>1</th>\n",
       "      <td>1</td>\n",
       "      <td>3.9</td>\n",
       "      <td>N</td>\n",
       "    </tr>\n",
       "    <tr>\n",
       "      <th>2</th>\n",
       "      <td>1</td>\n",
       "      <td>4.0</td>\n",
       "      <td>P</td>\n",
       "    </tr>\n",
       "    <tr>\n",
       "      <th>3</th>\n",
       "      <td>1</td>\n",
       "      <td>4.0</td>\n",
       "      <td>N</td>\n",
       "    </tr>\n",
       "    <tr>\n",
       "      <th>4</th>\n",
       "      <td>1</td>\n",
       "      <td>3.5</td>\n",
       "      <td>N</td>\n",
       "    </tr>\n",
       "  </tbody>\n",
       "</table>\n",
       "</div>"
      ],
      "text/plain": [
       "   x    y class\n",
       "0  1  4.4     N\n",
       "1  1  3.9     N\n",
       "2  1  4.0     P\n",
       "3  1  4.0     N\n",
       "4  1  3.5     N"
      ]
     },
     "execution_count": 23,
     "metadata": {},
     "output_type": "execute_result"
    }
   ],
   "source": [
    "geyser_dataset.head()"
   ]
  },
  {
   "cell_type": "code",
   "execution_count": 24,
   "metadata": {},
   "outputs": [
    {
     "data": {
      "text/plain": [
       "x          int64\n",
       "y        float64\n",
       "class     object\n",
       "dtype: object"
      ]
     },
     "execution_count": 24,
     "metadata": {},
     "output_type": "execute_result"
    }
   ],
   "source": [
    "geyser_dataset.dtypes"
   ]
  },
  {
   "cell_type": "code",
   "execution_count": 25,
   "metadata": {},
   "outputs": [
    {
     "data": {
      "text/html": [
       "<div>\n",
       "<style scoped>\n",
       "    .dataframe tbody tr th:only-of-type {\n",
       "        vertical-align: middle;\n",
       "    }\n",
       "\n",
       "    .dataframe tbody tr th {\n",
       "        vertical-align: top;\n",
       "    }\n",
       "\n",
       "    .dataframe thead th {\n",
       "        text-align: right;\n",
       "    }\n",
       "</style>\n",
       "<table border=\"1\" class=\"dataframe\">\n",
       "  <thead>\n",
       "    <tr style=\"text-align: right;\">\n",
       "      <th></th>\n",
       "      <th>x</th>\n",
       "      <th>y</th>\n",
       "    </tr>\n",
       "  </thead>\n",
       "  <tbody>\n",
       "    <tr>\n",
       "      <th>count</th>\n",
       "      <td>222.000000</td>\n",
       "      <td>222.000000</td>\n",
       "    </tr>\n",
       "    <tr>\n",
       "      <th>mean</th>\n",
       "      <td>12.297297</td>\n",
       "      <td>3.576126</td>\n",
       "    </tr>\n",
       "    <tr>\n",
       "      <th>std</th>\n",
       "      <td>7.862615</td>\n",
       "      <td>1.083950</td>\n",
       "    </tr>\n",
       "    <tr>\n",
       "      <th>min</th>\n",
       "      <td>1.000000</td>\n",
       "      <td>1.700000</td>\n",
       "    </tr>\n",
       "    <tr>\n",
       "      <th>25%</th>\n",
       "      <td>5.000000</td>\n",
       "      <td>2.300000</td>\n",
       "    </tr>\n",
       "    <tr>\n",
       "      <th>50%</th>\n",
       "      <td>16.000000</td>\n",
       "      <td>4.000000</td>\n",
       "    </tr>\n",
       "    <tr>\n",
       "      <th>75%</th>\n",
       "      <td>20.000000</td>\n",
       "      <td>4.400000</td>\n",
       "    </tr>\n",
       "    <tr>\n",
       "      <th>max</th>\n",
       "      <td>23.000000</td>\n",
       "      <td>5.200000</td>\n",
       "    </tr>\n",
       "  </tbody>\n",
       "</table>\n",
       "</div>"
      ],
      "text/plain": [
       "                x           y\n",
       "count  222.000000  222.000000\n",
       "mean    12.297297    3.576126\n",
       "std      7.862615    1.083950\n",
       "min      1.000000    1.700000\n",
       "25%      5.000000    2.300000\n",
       "50%     16.000000    4.000000\n",
       "75%     20.000000    4.400000\n",
       "max     23.000000    5.200000"
      ]
     },
     "execution_count": 25,
     "metadata": {},
     "output_type": "execute_result"
    }
   ],
   "source": [
    "geyser_dataset.describe()"
   ]
  },
  {
   "cell_type": "code",
   "execution_count": 26,
   "metadata": {},
   "outputs": [],
   "source": [
    "geyser_ds_targets = geyser_dataset['class'].unique()\n",
    "geyser_ds_digit_targets = [-1, 1]"
   ]
  },
  {
   "cell_type": "code",
   "execution_count": 27,
   "metadata": {},
   "outputs": [],
   "source": [
    "geyser_ds_x = geyser_dataset.drop('class', axis='columns')\n",
    "geyser_ds_y = geyser_dataset['class']"
   ]
  },
  {
   "cell_type": "code",
   "execution_count": 28,
   "metadata": {},
   "outputs": [
    {
     "data": {
      "text/plain": [
       "count    222.000000\n",
       "mean      -0.207207\n",
       "std        0.980508\n",
       "min       -1.000000\n",
       "25%       -1.000000\n",
       "50%       -1.000000\n",
       "75%        1.000000\n",
       "max        1.000000\n",
       "Name: class, dtype: float64"
      ]
     },
     "execution_count": 28,
     "metadata": {},
     "output_type": "execute_result"
    }
   ],
   "source": [
    "geyser_ds_y_digits = geyser_ds_y.replace(geyser_ds_targets, geyser_ds_digit_targets)\n",
    "geyser_ds_y_digits.describe()"
   ]
  },
  {
   "cell_type": "code",
   "execution_count": 29,
   "metadata": {},
   "outputs": [
    {
     "data": {
      "text/html": [
       "<div>\n",
       "<style scoped>\n",
       "    .dataframe tbody tr th:only-of-type {\n",
       "        vertical-align: middle;\n",
       "    }\n",
       "\n",
       "    .dataframe tbody tr th {\n",
       "        vertical-align: top;\n",
       "    }\n",
       "\n",
       "    .dataframe thead th {\n",
       "        text-align: right;\n",
       "    }\n",
       "</style>\n",
       "<table border=\"1\" class=\"dataframe\">\n",
       "  <thead>\n",
       "    <tr style=\"text-align: right;\">\n",
       "      <th></th>\n",
       "      <th>x</th>\n",
       "      <th>y</th>\n",
       "    </tr>\n",
       "  </thead>\n",
       "  <tbody>\n",
       "    <tr>\n",
       "      <th>count</th>\n",
       "      <td>222.000000</td>\n",
       "      <td>2.220000e+02</td>\n",
       "    </tr>\n",
       "    <tr>\n",
       "      <th>mean</th>\n",
       "      <td>0.000000</td>\n",
       "      <td>-1.056212e-15</td>\n",
       "    </tr>\n",
       "    <tr>\n",
       "      <th>std</th>\n",
       "      <td>1.000000</td>\n",
       "      <td>1.000000e+00</td>\n",
       "    </tr>\n",
       "    <tr>\n",
       "      <th>min</th>\n",
       "      <td>-1.436837</td>\n",
       "      <td>-1.730823e+00</td>\n",
       "    </tr>\n",
       "    <tr>\n",
       "      <th>25%</th>\n",
       "      <td>-0.928101</td>\n",
       "      <td>-1.177292e+00</td>\n",
       "    </tr>\n",
       "    <tr>\n",
       "      <th>50%</th>\n",
       "      <td>0.470925</td>\n",
       "      <td>3.910456e-01</td>\n",
       "    </tr>\n",
       "    <tr>\n",
       "      <th>75%</th>\n",
       "      <td>0.979662</td>\n",
       "      <td>7.600662e-01</td>\n",
       "    </tr>\n",
       "    <tr>\n",
       "      <th>max</th>\n",
       "      <td>1.361214</td>\n",
       "      <td>1.498108e+00</td>\n",
       "    </tr>\n",
       "  </tbody>\n",
       "</table>\n",
       "</div>"
      ],
      "text/plain": [
       "                x             y\n",
       "count  222.000000  2.220000e+02\n",
       "mean     0.000000 -1.056212e-15\n",
       "std      1.000000  1.000000e+00\n",
       "min     -1.436837 -1.730823e+00\n",
       "25%     -0.928101 -1.177292e+00\n",
       "50%      0.470925  3.910456e-01\n",
       "75%      0.979662  7.600662e-01\n",
       "max      1.361214  1.498108e+00"
      ]
     },
     "execution_count": 29,
     "metadata": {},
     "output_type": "execute_result"
    }
   ],
   "source": [
    "geyser_ds_x_offset = geyser_ds_x.mean()\n",
    "geyser_ds_x_scale = geyser_ds_x.std()\n",
    "geyser_ds_x_norm = (geyser_ds_x - geyser_ds_x_offset) / geyser_ds_x_scale\n",
    "geyser_ds_x_norm.describe()"
   ]
  },
  {
   "cell_type": "code",
   "execution_count": 30,
   "metadata": {},
   "outputs": [
    {
     "data": {
      "text/plain": [
       "False"
      ]
     },
     "execution_count": 30,
     "metadata": {},
     "output_type": "execute_result"
    }
   ],
   "source": [
    "geyser_ds_x_norm.isna().values.any()"
   ]
  },
  {
   "cell_type": "markdown",
   "metadata": {},
   "source": [
    "### Chips dataset"
   ]
  },
  {
   "cell_type": "code",
   "execution_count": 31,
   "metadata": {},
   "outputs": [
    {
     "data": {
      "text/html": [
       "<div>\n",
       "<style scoped>\n",
       "    .dataframe tbody tr th:only-of-type {\n",
       "        vertical-align: middle;\n",
       "    }\n",
       "\n",
       "    .dataframe tbody tr th {\n",
       "        vertical-align: top;\n",
       "    }\n",
       "\n",
       "    .dataframe thead th {\n",
       "        text-align: right;\n",
       "    }\n",
       "</style>\n",
       "<table border=\"1\" class=\"dataframe\">\n",
       "  <thead>\n",
       "    <tr style=\"text-align: right;\">\n",
       "      <th></th>\n",
       "      <th>x</th>\n",
       "      <th>y</th>\n",
       "      <th>class</th>\n",
       "    </tr>\n",
       "  </thead>\n",
       "  <tbody>\n",
       "    <tr>\n",
       "      <th>0</th>\n",
       "      <td>0.051267</td>\n",
       "      <td>0.69956</td>\n",
       "      <td>P</td>\n",
       "    </tr>\n",
       "    <tr>\n",
       "      <th>1</th>\n",
       "      <td>-0.092742</td>\n",
       "      <td>0.68494</td>\n",
       "      <td>P</td>\n",
       "    </tr>\n",
       "    <tr>\n",
       "      <th>2</th>\n",
       "      <td>-0.213710</td>\n",
       "      <td>0.69225</td>\n",
       "      <td>P</td>\n",
       "    </tr>\n",
       "    <tr>\n",
       "      <th>3</th>\n",
       "      <td>-0.375000</td>\n",
       "      <td>0.50219</td>\n",
       "      <td>P</td>\n",
       "    </tr>\n",
       "    <tr>\n",
       "      <th>4</th>\n",
       "      <td>-0.513250</td>\n",
       "      <td>0.46564</td>\n",
       "      <td>P</td>\n",
       "    </tr>\n",
       "  </tbody>\n",
       "</table>\n",
       "</div>"
      ],
      "text/plain": [
       "          x        y class\n",
       "0  0.051267  0.69956     P\n",
       "1 -0.092742  0.68494     P\n",
       "2 -0.213710  0.69225     P\n",
       "3 -0.375000  0.50219     P\n",
       "4 -0.513250  0.46564     P"
      ]
     },
     "execution_count": 31,
     "metadata": {},
     "output_type": "execute_result"
    }
   ],
   "source": [
    "chips_dataset.head()"
   ]
  },
  {
   "cell_type": "code",
   "execution_count": 32,
   "metadata": {},
   "outputs": [
    {
     "data": {
      "text/plain": [
       "x        float64\n",
       "y        float64\n",
       "class     object\n",
       "dtype: object"
      ]
     },
     "execution_count": 32,
     "metadata": {},
     "output_type": "execute_result"
    }
   ],
   "source": [
    "chips_dataset.dtypes"
   ]
  },
  {
   "cell_type": "code",
   "execution_count": 33,
   "metadata": {},
   "outputs": [
    {
     "data": {
      "text/html": [
       "<div>\n",
       "<style scoped>\n",
       "    .dataframe tbody tr th:only-of-type {\n",
       "        vertical-align: middle;\n",
       "    }\n",
       "\n",
       "    .dataframe tbody tr th {\n",
       "        vertical-align: top;\n",
       "    }\n",
       "\n",
       "    .dataframe thead th {\n",
       "        text-align: right;\n",
       "    }\n",
       "</style>\n",
       "<table border=\"1\" class=\"dataframe\">\n",
       "  <thead>\n",
       "    <tr style=\"text-align: right;\">\n",
       "      <th></th>\n",
       "      <th>x</th>\n",
       "      <th>y</th>\n",
       "    </tr>\n",
       "  </thead>\n",
       "  <tbody>\n",
       "    <tr>\n",
       "      <th>count</th>\n",
       "      <td>118.000000</td>\n",
       "      <td>118.000000</td>\n",
       "    </tr>\n",
       "    <tr>\n",
       "      <th>mean</th>\n",
       "      <td>0.054779</td>\n",
       "      <td>0.183102</td>\n",
       "    </tr>\n",
       "    <tr>\n",
       "      <th>std</th>\n",
       "      <td>0.496654</td>\n",
       "      <td>0.519743</td>\n",
       "    </tr>\n",
       "    <tr>\n",
       "      <th>min</th>\n",
       "      <td>-0.830070</td>\n",
       "      <td>-0.769740</td>\n",
       "    </tr>\n",
       "    <tr>\n",
       "      <th>25%</th>\n",
       "      <td>-0.372120</td>\n",
       "      <td>-0.254385</td>\n",
       "    </tr>\n",
       "    <tr>\n",
       "      <th>50%</th>\n",
       "      <td>-0.006336</td>\n",
       "      <td>0.213455</td>\n",
       "    </tr>\n",
       "    <tr>\n",
       "      <th>75%</th>\n",
       "      <td>0.478970</td>\n",
       "      <td>0.646562</td>\n",
       "    </tr>\n",
       "    <tr>\n",
       "      <th>max</th>\n",
       "      <td>1.070900</td>\n",
       "      <td>1.108900</td>\n",
       "    </tr>\n",
       "  </tbody>\n",
       "</table>\n",
       "</div>"
      ],
      "text/plain": [
       "                x           y\n",
       "count  118.000000  118.000000\n",
       "mean     0.054779    0.183102\n",
       "std      0.496654    0.519743\n",
       "min     -0.830070   -0.769740\n",
       "25%     -0.372120   -0.254385\n",
       "50%     -0.006336    0.213455\n",
       "75%      0.478970    0.646562\n",
       "max      1.070900    1.108900"
      ]
     },
     "execution_count": 33,
     "metadata": {},
     "output_type": "execute_result"
    }
   ],
   "source": [
    "chips_dataset.describe()"
   ]
  },
  {
   "cell_type": "code",
   "execution_count": 34,
   "metadata": {},
   "outputs": [],
   "source": [
    "chips_ds_targets = chips_dataset['class'].unique()\n",
    "chips_ds_digit_targets = [-1, 1]"
   ]
  },
  {
   "cell_type": "code",
   "execution_count": 35,
   "metadata": {},
   "outputs": [],
   "source": [
    "chips_ds_x = chips_dataset.drop('class', axis='columns')\n",
    "chips_ds_y = chips_dataset['class']"
   ]
  },
  {
   "cell_type": "code",
   "execution_count": 36,
   "metadata": {},
   "outputs": [
    {
     "data": {
      "text/plain": [
       "count    118.000000\n",
       "mean       0.016949\n",
       "std        1.004120\n",
       "min       -1.000000\n",
       "25%       -1.000000\n",
       "50%        1.000000\n",
       "75%        1.000000\n",
       "max        1.000000\n",
       "Name: class, dtype: float64"
      ]
     },
     "execution_count": 36,
     "metadata": {},
     "output_type": "execute_result"
    }
   ],
   "source": [
    "chips_ds_y_digits = chips_ds_y.replace(chips_ds_targets, chips_ds_digit_targets)\n",
    "chips_ds_y_digits.describe()"
   ]
  },
  {
   "cell_type": "code",
   "execution_count": 37,
   "metadata": {},
   "outputs": [
    {
     "data": {
      "text/html": [
       "<div>\n",
       "<style scoped>\n",
       "    .dataframe tbody tr th:only-of-type {\n",
       "        vertical-align: middle;\n",
       "    }\n",
       "\n",
       "    .dataframe tbody tr th {\n",
       "        vertical-align: top;\n",
       "    }\n",
       "\n",
       "    .dataframe thead th {\n",
       "        text-align: right;\n",
       "    }\n",
       "</style>\n",
       "<table border=\"1\" class=\"dataframe\">\n",
       "  <thead>\n",
       "    <tr style=\"text-align: right;\">\n",
       "      <th></th>\n",
       "      <th>x</th>\n",
       "      <th>y</th>\n",
       "    </tr>\n",
       "  </thead>\n",
       "  <tbody>\n",
       "    <tr>\n",
       "      <th>count</th>\n",
       "      <td>1.180000e+02</td>\n",
       "      <td>1.180000e+02</td>\n",
       "    </tr>\n",
       "    <tr>\n",
       "      <th>mean</th>\n",
       "      <td>2.258081e-17</td>\n",
       "      <td>5.927462e-17</td>\n",
       "    </tr>\n",
       "    <tr>\n",
       "      <th>std</th>\n",
       "      <td>1.000000e+00</td>\n",
       "      <td>1.000000e+00</td>\n",
       "    </tr>\n",
       "    <tr>\n",
       "      <th>min</th>\n",
       "      <td>-1.781621e+00</td>\n",
       "      <td>-1.833294e+00</td>\n",
       "    </tr>\n",
       "    <tr>\n",
       "      <th>25%</th>\n",
       "      <td>-8.595503e-01</td>\n",
       "      <td>-8.417365e-01</td>\n",
       "    </tr>\n",
       "    <tr>\n",
       "      <th>50%</th>\n",
       "      <td>-1.230541e-01</td>\n",
       "      <td>5.840087e-02</td>\n",
       "    </tr>\n",
       "    <tr>\n",
       "      <th>75%</th>\n",
       "      <td>8.540982e-01</td>\n",
       "      <td>8.917119e-01</td>\n",
       "    </tr>\n",
       "    <tr>\n",
       "      <th>max</th>\n",
       "      <td>2.045934e+00</td>\n",
       "      <td>1.781262e+00</td>\n",
       "    </tr>\n",
       "  </tbody>\n",
       "</table>\n",
       "</div>"
      ],
      "text/plain": [
       "                  x             y\n",
       "count  1.180000e+02  1.180000e+02\n",
       "mean   2.258081e-17  5.927462e-17\n",
       "std    1.000000e+00  1.000000e+00\n",
       "min   -1.781621e+00 -1.833294e+00\n",
       "25%   -8.595503e-01 -8.417365e-01\n",
       "50%   -1.230541e-01  5.840087e-02\n",
       "75%    8.540982e-01  8.917119e-01\n",
       "max    2.045934e+00  1.781262e+00"
      ]
     },
     "execution_count": 37,
     "metadata": {},
     "output_type": "execute_result"
    }
   ],
   "source": [
    "chips_ds_x_offset = chips_ds_x.mean()\n",
    "chips_ds_x_scale = chips_ds_x.std()\n",
    "chips_ds_x_norm = (chips_ds_x - chips_ds_x_offset) / chips_ds_x_scale\n",
    "chips_ds_x_norm.describe()"
   ]
  },
  {
   "cell_type": "code",
   "execution_count": 38,
   "metadata": {},
   "outputs": [
    {
     "data": {
      "text/plain": [
       "False"
      ]
     },
     "execution_count": 38,
     "metadata": {},
     "output_type": "execute_result"
    }
   ],
   "source": [
    "chips_ds_x_norm.isna().values.any()"
   ]
  },
  {
   "cell_type": "markdown",
   "metadata": {},
   "source": [
    "# Train SVM"
   ]
  },
  {
   "cell_type": "code",
   "execution_count": 75,
   "metadata": {},
   "outputs": [],
   "source": [
    "def train_svm(x_data, y_data, kernel_f, alphas, weights, w0, c=1.0):\n",
    "    for i in range(1, len(x_data), 1):\n",
    "        # current step data\n",
    "        x1, x2 = x_data[i-1], x_data[i]\n",
    "        y1, y2 = y_data[i-1], y_data[i]\n",
    "        a1, a2 = alphas[i-1], alphas[i]\n",
    "        \n",
    "        # errors and derivative on current step\n",
    "        error1 = calculate_error(predict(x1, x_data, y_data, kernel_f, alphas, w0), y1)\n",
    "        error2 = calculate_error(predict(x2, x_data, y_data, kernel_f, alphas, w0), y2)\n",
    "        d = calculate_derivative(x1, x2, kernel_f)\n",
    "        \n",
    "        # bounds\n",
    "        l, h = calculate_bounds(a1, a2, c, y1, y2)\n",
    "        \n",
    "        # update alpha2\n",
    "        a2_new = a2 + y2 * (error1 - error2) / (d + 1e-5)\n",
    "        a2_new_clipped = max(l, min(h, a2_new))\n",
    "        \n",
    "        # update alpha1\n",
    "        a1_new = a1 + y1 * y2 * (a2 - a2_new_clipped)\n",
    "        \n",
    "        # store new alphas\n",
    "        alphas[i-1], alphas[i] = a1_new, a2_new_clipped\n",
    "        \n",
    "        # update weights\n",
    "        weights = (alphas * y_data * x_data).sum(axis=0)\n",
    "        for x, y, alpha in zip(x_data, y_data, alphas):\n",
    "            if alpha > 0:\n",
    "                w0 = x.dot(weights.T) - y\n",
    "                break\n",
    "    \n",
    "    \n",
    "def predict(x_t, x_data, y_data, kernel_f, alphas, w0):\n",
    "    p = 0\n",
    "    for x, y, a in zip(x_data, y_data, alphas):\n",
    "        p += y * a * kernel_f(x_t, x) - w0\n",
    "    return p\n",
    "\n",
    "\n",
    "def calculate_error(p, y):\n",
    "    return p - y\n",
    "    \n",
    "    \n",
    "def calculate_derivative(x1, x2, kernel_f):\n",
    "    return kernel_f(x1, x1) + kernel_f(x2, x2) - 2 * kernel_f(x1, x2)\n",
    "    \n",
    "\n",
    "def calculate_bounds(a1, a2, c, y1, y2):\n",
    "    if y1 != y2:\n",
    "        l = max(0, a2 - a1)\n",
    "        h = min(c, c + a2 - a1)\n",
    "    else:\n",
    "        l = max(0, a2 + a1 - c)\n",
    "        h = min(c, a2 + a1)\n",
    "    return l, h"
   ]
  },
  {
   "cell_type": "markdown",
   "metadata": {},
   "source": [
    "#### Kernel functions"
   ]
  },
  {
   "cell_type": "code",
   "execution_count": 76,
   "metadata": {},
   "outputs": [],
   "source": [
    "def linear_kernel(x1, x2):\n",
    "    return x1.dot(x2)\n",
    "\n",
    "\n",
    "def polynomial_kernel(x1, x2, power=1):\n",
    "    return (x1.dot(x2) + 1) * power\n",
    "\n",
    "\n",
    "def gaussian_radial_kernel(x1, x2, phi=1):\n",
    "    x_diff = x1 - x2\n",
    "    return math.exp(-phi * x_diff.dot(x_diff))"
   ]
  },
  {
   "cell_type": "markdown",
   "metadata": {},
   "source": [
    "#### Loss functions"
   ]
  },
  {
   "cell_type": "code",
   "execution_count": 77,
   "metadata": {},
   "outputs": [],
   "source": [
    "def calculate_accuracy(y_predicted, y_test):\n",
    "    return (y_predicted * y_test > 0).sum() / len(y_test)"
   ]
  },
  {
   "cell_type": "markdown",
   "metadata": {},
   "source": [
    "### Geyser dataset"
   ]
  },
  {
   "cell_type": "code",
   "execution_count": 89,
   "metadata": {},
   "outputs": [
    {
     "name": "stdout",
     "output_type": "stream",
     "text": [
      "C: 0.05 | Mean error: 0.8884297520661156\n",
      "C: 0.1 | Mean error: 0.8760330578512395\n",
      "C: 0.5 | Mean error: 0.8801652892561983\n",
      "C: 1.0 | Mean error: 0.884297520661157\n",
      "C: 5.0 | Mean error: 0.8884297520661157\n",
      "C: 10.0 | Mean error: 0.8760330578512397\n",
      "C: 50.0 | Mean error: 0.847107438016529\n",
      "C: 100.0 | Mean error: 0.7892561983471075\n"
     ]
    }
   ],
   "source": [
    "def examine_linear_kernel(ds_x, ds_y, c):\n",
    "    weights = np.random.randn(geyser_ds_x_norm.shape[1])\n",
    "    w0 = 0\n",
    "\n",
    "    k_folds = 10\n",
    "    ds_size = len(geyser_ds_x_norm)\n",
    "    fold_size = int(ds_size / k_folds)\n",
    "\n",
    "    test_errors = []\n",
    "\n",
    "    for i in range(0, len(geyser_ds_x_norm), fold_size):\n",
    "        test_indices = list(range(i, min(ds_size, i + fold_size), 1))\n",
    "\n",
    "        x_train = geyser_ds_x_norm.drop(test_indices, axis='index').values\n",
    "        y_train = geyser_ds_y_digits.drop(test_indices, axis='index').values.reshape(-1, 1)\n",
    "        x_test = geyser_ds_x_norm.iloc[test_indices].values\n",
    "        y_test = geyser_ds_y_digits.iloc[test_indices].values.reshape(-1, 1)\n",
    "\n",
    "        alphas = np.random.randn(len(x_train)).reshape(-1, 1)\n",
    "        train_svm(x_train, y_train, linear_kernel, alphas, weights, w0, c)\n",
    "\n",
    "        y_ps = []\n",
    "        for x_t in x_test:\n",
    "            y_p = predict(x_t, x_train, y_train, linear_kernel, alphas, w0)\n",
    "            y_ps.append(y_p)\n",
    "\n",
    "        test_errors.append(calculate_accuracy(np.array(y_ps), y_test))\n",
    "\n",
    "    print('C: {} | Mean error: {}'.format(c, np.array(test_errors).mean()))\n",
    "    \n",
    "    \n",
    "cs = [0.05, 0.1, 0.5, 1.0, 5.0, 10.0, 50.0, 100.0]\n",
    "for c in cs:\n",
    "    examine_linear_kernel(geyser_ds_x_norm, geyser_ds_y_digits, c)"
   ]
  },
  {
   "cell_type": "code",
   "execution_count": null,
   "metadata": {},
   "outputs": [],
   "source": []
  },
  {
   "cell_type": "code",
   "execution_count": null,
   "metadata": {},
   "outputs": [],
   "source": []
  },
  {
   "cell_type": "code",
   "execution_count": null,
   "metadata": {},
   "outputs": [],
   "source": []
  },
  {
   "cell_type": "code",
   "execution_count": 84,
   "metadata": {},
   "outputs": [
    {
     "name": "stdout",
     "output_type": "stream",
     "text": [
      "Mean error: 0.884297520661157\n"
     ]
    }
   ],
   "source": [
    "weights = np.random.randn(geyser_ds_x_norm.shape[1])\n",
    "w0 = 0\n",
    "\n",
    "c = 0.1\n",
    "\n",
    "k_folds = 10\n",
    "ds_size = len(geyser_ds_x_norm)\n",
    "fold_size = int(ds_size / k_folds)\n",
    "\n",
    "test_errors = []\n",
    "\n",
    "for i in range(0, len(geyser_ds_x_norm), fold_size):\n",
    "    test_indices = list(range(i, min(ds_size, i + fold_size), 1))\n",
    "    \n",
    "    x_train = geyser_ds_x_norm.drop(test_indices, axis='index').values\n",
    "    y_train = geyser_ds_y_digits.drop(test_indices, axis='index').values.reshape(-1, 1)\n",
    "    x_test = geyser_ds_x_norm.iloc[test_indices].values\n",
    "    y_test = geyser_ds_y_digits.iloc[test_indices].values.reshape(-1, 1)\n",
    "    \n",
    "    alphas = np.random.randn(len(x_train)).reshape(-1, 1)\n",
    "    train_svm(x_train, y_train, linear_kernel, alphas, weights, w0, c)\n",
    "    \n",
    "    y_ps = []\n",
    "    for x_t in x_test:\n",
    "        y_p = predict(x_t, x_train, y_train, linear_kernel, alphas, w0)\n",
    "        y_ps.append(y_p)\n",
    "        \n",
    "    test_errors.append(calculate_accuracy(np.array(y_ps), y_test))\n",
    "    \n",
    "print('Mean error: {}'.format(np.array(test_errors).mean()))"
   ]
  },
  {
   "cell_type": "code",
   "execution_count": null,
   "metadata": {},
   "outputs": [],
   "source": []
  }
 ],
 "metadata": {
  "kernelspec": {
   "display_name": "Python 3",
   "language": "python",
   "name": "python3"
  },
  "language_info": {
   "codemirror_mode": {
    "name": "ipython",
    "version": 3
   },
   "file_extension": ".py",
   "mimetype": "text/x-python",
   "name": "python",
   "nbconvert_exporter": "python",
   "pygments_lexer": "ipython3",
   "version": "3.6.9"
  }
 },
 "nbformat": 4,
 "nbformat_minor": 2
}
