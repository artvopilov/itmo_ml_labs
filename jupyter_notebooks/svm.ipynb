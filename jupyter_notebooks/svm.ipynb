{
 "cells": [
  {
   "cell_type": "code",
   "execution_count": 31,
   "metadata": {},
   "outputs": [],
   "source": [
    "import os, sys, inspect\n",
    "current_dir = os.path.dirname(os.path.abspath(inspect.getfile(inspect.currentframe())))\n",
    "parent_dir = os.path.dirname(current_dir)\n",
    "sys.path.insert(0, parent_dir) \n",
    "from knn_regression_cf import *\n",
    "from f1_measure_cf import *\n",
    "\n",
    "from collections import defaultdict\n",
    "\n",
    "import pandas as pd\n",
    "import numpy as np\n",
    "from matplotlib import pyplot as plt\n",
    "\n",
    "import math\n",
    "import sys\n",
    "import random"
   ]
  },
  {
   "cell_type": "markdown",
   "metadata": {},
   "source": [
    "# Prepare data"
   ]
  },
  {
   "cell_type": "code",
   "execution_count": 2,
   "metadata": {},
   "outputs": [],
   "source": [
    "geyser_dataset_path = '/home/artem/Documents/ITMO/Master/ML/Datasets/geyser.csv'\n",
    "chips_dataset_path = '/home/artem/Documents/ITMO/Master/ML/Datasets/chips.csv'\n",
    "dataset_columns = ['x', 'y', 'class']\n",
    "\n",
    "geyser_dataset = pd.read_csv(geyser_dataset_path, sep=',', header=0, names=dataset_columns)\n",
    "chips_dataset = pd.read_csv(chips_dataset_path, sep=',', header=0, names=dataset_columns)"
   ]
  },
  {
   "cell_type": "markdown",
   "metadata": {},
   "source": [
    "### Geyser dataset"
   ]
  },
  {
   "cell_type": "code",
   "execution_count": 3,
   "metadata": {},
   "outputs": [
    {
     "data": {
      "text/html": [
       "<div>\n",
       "<style scoped>\n",
       "    .dataframe tbody tr th:only-of-type {\n",
       "        vertical-align: middle;\n",
       "    }\n",
       "\n",
       "    .dataframe tbody tr th {\n",
       "        vertical-align: top;\n",
       "    }\n",
       "\n",
       "    .dataframe thead th {\n",
       "        text-align: right;\n",
       "    }\n",
       "</style>\n",
       "<table border=\"1\" class=\"dataframe\">\n",
       "  <thead>\n",
       "    <tr style=\"text-align: right;\">\n",
       "      <th></th>\n",
       "      <th>x</th>\n",
       "      <th>y</th>\n",
       "      <th>class</th>\n",
       "    </tr>\n",
       "  </thead>\n",
       "  <tbody>\n",
       "    <tr>\n",
       "      <th>0</th>\n",
       "      <td>1</td>\n",
       "      <td>4.4</td>\n",
       "      <td>N</td>\n",
       "    </tr>\n",
       "    <tr>\n",
       "      <th>1</th>\n",
       "      <td>1</td>\n",
       "      <td>3.9</td>\n",
       "      <td>N</td>\n",
       "    </tr>\n",
       "    <tr>\n",
       "      <th>2</th>\n",
       "      <td>1</td>\n",
       "      <td>4.0</td>\n",
       "      <td>P</td>\n",
       "    </tr>\n",
       "    <tr>\n",
       "      <th>3</th>\n",
       "      <td>1</td>\n",
       "      <td>4.0</td>\n",
       "      <td>N</td>\n",
       "    </tr>\n",
       "    <tr>\n",
       "      <th>4</th>\n",
       "      <td>1</td>\n",
       "      <td>3.5</td>\n",
       "      <td>N</td>\n",
       "    </tr>\n",
       "  </tbody>\n",
       "</table>\n",
       "</div>"
      ],
      "text/plain": [
       "   x    y class\n",
       "0  1  4.4     N\n",
       "1  1  3.9     N\n",
       "2  1  4.0     P\n",
       "3  1  4.0     N\n",
       "4  1  3.5     N"
      ]
     },
     "execution_count": 3,
     "metadata": {},
     "output_type": "execute_result"
    }
   ],
   "source": [
    "geyser_dataset.head()"
   ]
  },
  {
   "cell_type": "code",
   "execution_count": 4,
   "metadata": {},
   "outputs": [
    {
     "data": {
      "text/plain": [
       "x          int64\n",
       "y        float64\n",
       "class     object\n",
       "dtype: object"
      ]
     },
     "execution_count": 4,
     "metadata": {},
     "output_type": "execute_result"
    }
   ],
   "source": [
    "geyser_dataset.dtypes"
   ]
  },
  {
   "cell_type": "code",
   "execution_count": 5,
   "metadata": {},
   "outputs": [
    {
     "data": {
      "text/html": [
       "<div>\n",
       "<style scoped>\n",
       "    .dataframe tbody tr th:only-of-type {\n",
       "        vertical-align: middle;\n",
       "    }\n",
       "\n",
       "    .dataframe tbody tr th {\n",
       "        vertical-align: top;\n",
       "    }\n",
       "\n",
       "    .dataframe thead th {\n",
       "        text-align: right;\n",
       "    }\n",
       "</style>\n",
       "<table border=\"1\" class=\"dataframe\">\n",
       "  <thead>\n",
       "    <tr style=\"text-align: right;\">\n",
       "      <th></th>\n",
       "      <th>x</th>\n",
       "      <th>y</th>\n",
       "    </tr>\n",
       "  </thead>\n",
       "  <tbody>\n",
       "    <tr>\n",
       "      <th>count</th>\n",
       "      <td>222.000000</td>\n",
       "      <td>222.000000</td>\n",
       "    </tr>\n",
       "    <tr>\n",
       "      <th>mean</th>\n",
       "      <td>12.297297</td>\n",
       "      <td>3.576126</td>\n",
       "    </tr>\n",
       "    <tr>\n",
       "      <th>std</th>\n",
       "      <td>7.862615</td>\n",
       "      <td>1.083950</td>\n",
       "    </tr>\n",
       "    <tr>\n",
       "      <th>min</th>\n",
       "      <td>1.000000</td>\n",
       "      <td>1.700000</td>\n",
       "    </tr>\n",
       "    <tr>\n",
       "      <th>25%</th>\n",
       "      <td>5.000000</td>\n",
       "      <td>2.300000</td>\n",
       "    </tr>\n",
       "    <tr>\n",
       "      <th>50%</th>\n",
       "      <td>16.000000</td>\n",
       "      <td>4.000000</td>\n",
       "    </tr>\n",
       "    <tr>\n",
       "      <th>75%</th>\n",
       "      <td>20.000000</td>\n",
       "      <td>4.400000</td>\n",
       "    </tr>\n",
       "    <tr>\n",
       "      <th>max</th>\n",
       "      <td>23.000000</td>\n",
       "      <td>5.200000</td>\n",
       "    </tr>\n",
       "  </tbody>\n",
       "</table>\n",
       "</div>"
      ],
      "text/plain": [
       "                x           y\n",
       "count  222.000000  222.000000\n",
       "mean    12.297297    3.576126\n",
       "std      7.862615    1.083950\n",
       "min      1.000000    1.700000\n",
       "25%      5.000000    2.300000\n",
       "50%     16.000000    4.000000\n",
       "75%     20.000000    4.400000\n",
       "max     23.000000    5.200000"
      ]
     },
     "execution_count": 5,
     "metadata": {},
     "output_type": "execute_result"
    }
   ],
   "source": [
    "geyser_dataset.describe()"
   ]
  },
  {
   "cell_type": "code",
   "execution_count": 6,
   "metadata": {},
   "outputs": [],
   "source": [
    "geyser_ds_targets = geyser_dataset['class'].unique()\n",
    "geyser_ds_digit_targets = [-1, 1]"
   ]
  },
  {
   "cell_type": "code",
   "execution_count": 7,
   "metadata": {},
   "outputs": [],
   "source": [
    "geyser_ds_x = geyser_dataset.drop('class', axis='columns')\n",
    "geyser_ds_y = geyser_dataset['class']"
   ]
  },
  {
   "cell_type": "code",
   "execution_count": 8,
   "metadata": {},
   "outputs": [
    {
     "data": {
      "text/plain": [
       "count    222.000000\n",
       "mean      -0.207207\n",
       "std        0.980508\n",
       "min       -1.000000\n",
       "25%       -1.000000\n",
       "50%       -1.000000\n",
       "75%        1.000000\n",
       "max        1.000000\n",
       "Name: class, dtype: float64"
      ]
     },
     "execution_count": 8,
     "metadata": {},
     "output_type": "execute_result"
    }
   ],
   "source": [
    "geyser_ds_y_digits = geyser_ds_y.replace(geyser_ds_targets, geyser_ds_digit_targets)\n",
    "geyser_ds_y_digits.describe()"
   ]
  },
  {
   "cell_type": "code",
   "execution_count": 9,
   "metadata": {},
   "outputs": [
    {
     "data": {
      "text/html": [
       "<div>\n",
       "<style scoped>\n",
       "    .dataframe tbody tr th:only-of-type {\n",
       "        vertical-align: middle;\n",
       "    }\n",
       "\n",
       "    .dataframe tbody tr th {\n",
       "        vertical-align: top;\n",
       "    }\n",
       "\n",
       "    .dataframe thead th {\n",
       "        text-align: right;\n",
       "    }\n",
       "</style>\n",
       "<table border=\"1\" class=\"dataframe\">\n",
       "  <thead>\n",
       "    <tr style=\"text-align: right;\">\n",
       "      <th></th>\n",
       "      <th>x</th>\n",
       "      <th>y</th>\n",
       "    </tr>\n",
       "  </thead>\n",
       "  <tbody>\n",
       "    <tr>\n",
       "      <th>count</th>\n",
       "      <td>222.000000</td>\n",
       "      <td>2.220000e+02</td>\n",
       "    </tr>\n",
       "    <tr>\n",
       "      <th>mean</th>\n",
       "      <td>0.000000</td>\n",
       "      <td>-1.056212e-15</td>\n",
       "    </tr>\n",
       "    <tr>\n",
       "      <th>std</th>\n",
       "      <td>1.000000</td>\n",
       "      <td>1.000000e+00</td>\n",
       "    </tr>\n",
       "    <tr>\n",
       "      <th>min</th>\n",
       "      <td>-1.436837</td>\n",
       "      <td>-1.730823e+00</td>\n",
       "    </tr>\n",
       "    <tr>\n",
       "      <th>25%</th>\n",
       "      <td>-0.928101</td>\n",
       "      <td>-1.177292e+00</td>\n",
       "    </tr>\n",
       "    <tr>\n",
       "      <th>50%</th>\n",
       "      <td>0.470925</td>\n",
       "      <td>3.910456e-01</td>\n",
       "    </tr>\n",
       "    <tr>\n",
       "      <th>75%</th>\n",
       "      <td>0.979662</td>\n",
       "      <td>7.600662e-01</td>\n",
       "    </tr>\n",
       "    <tr>\n",
       "      <th>max</th>\n",
       "      <td>1.361214</td>\n",
       "      <td>1.498108e+00</td>\n",
       "    </tr>\n",
       "  </tbody>\n",
       "</table>\n",
       "</div>"
      ],
      "text/plain": [
       "                x             y\n",
       "count  222.000000  2.220000e+02\n",
       "mean     0.000000 -1.056212e-15\n",
       "std      1.000000  1.000000e+00\n",
       "min     -1.436837 -1.730823e+00\n",
       "25%     -0.928101 -1.177292e+00\n",
       "50%      0.470925  3.910456e-01\n",
       "75%      0.979662  7.600662e-01\n",
       "max      1.361214  1.498108e+00"
      ]
     },
     "execution_count": 9,
     "metadata": {},
     "output_type": "execute_result"
    }
   ],
   "source": [
    "geyser_ds_x_offset = geyser_ds_x.mean()\n",
    "geyser_ds_x_scale = geyser_ds_x.std()\n",
    "geyser_ds_x_norm = (geyser_ds_x - geyser_ds_x_offset) / geyser_ds_x_scale\n",
    "geyser_ds_x_norm.describe()"
   ]
  },
  {
   "cell_type": "code",
   "execution_count": 10,
   "metadata": {},
   "outputs": [
    {
     "data": {
      "text/plain": [
       "False"
      ]
     },
     "execution_count": 10,
     "metadata": {},
     "output_type": "execute_result"
    }
   ],
   "source": [
    "geyser_ds_x_norm.isna().values.any()"
   ]
  },
  {
   "cell_type": "markdown",
   "metadata": {},
   "source": [
    "### Chips dataset"
   ]
  },
  {
   "cell_type": "code",
   "execution_count": 11,
   "metadata": {},
   "outputs": [
    {
     "data": {
      "text/html": [
       "<div>\n",
       "<style scoped>\n",
       "    .dataframe tbody tr th:only-of-type {\n",
       "        vertical-align: middle;\n",
       "    }\n",
       "\n",
       "    .dataframe tbody tr th {\n",
       "        vertical-align: top;\n",
       "    }\n",
       "\n",
       "    .dataframe thead th {\n",
       "        text-align: right;\n",
       "    }\n",
       "</style>\n",
       "<table border=\"1\" class=\"dataframe\">\n",
       "  <thead>\n",
       "    <tr style=\"text-align: right;\">\n",
       "      <th></th>\n",
       "      <th>x</th>\n",
       "      <th>y</th>\n",
       "      <th>class</th>\n",
       "    </tr>\n",
       "  </thead>\n",
       "  <tbody>\n",
       "    <tr>\n",
       "      <th>0</th>\n",
       "      <td>0.051267</td>\n",
       "      <td>0.69956</td>\n",
       "      <td>P</td>\n",
       "    </tr>\n",
       "    <tr>\n",
       "      <th>1</th>\n",
       "      <td>-0.092742</td>\n",
       "      <td>0.68494</td>\n",
       "      <td>P</td>\n",
       "    </tr>\n",
       "    <tr>\n",
       "      <th>2</th>\n",
       "      <td>-0.213710</td>\n",
       "      <td>0.69225</td>\n",
       "      <td>P</td>\n",
       "    </tr>\n",
       "    <tr>\n",
       "      <th>3</th>\n",
       "      <td>-0.375000</td>\n",
       "      <td>0.50219</td>\n",
       "      <td>P</td>\n",
       "    </tr>\n",
       "    <tr>\n",
       "      <th>4</th>\n",
       "      <td>-0.513250</td>\n",
       "      <td>0.46564</td>\n",
       "      <td>P</td>\n",
       "    </tr>\n",
       "  </tbody>\n",
       "</table>\n",
       "</div>"
      ],
      "text/plain": [
       "          x        y class\n",
       "0  0.051267  0.69956     P\n",
       "1 -0.092742  0.68494     P\n",
       "2 -0.213710  0.69225     P\n",
       "3 -0.375000  0.50219     P\n",
       "4 -0.513250  0.46564     P"
      ]
     },
     "execution_count": 11,
     "metadata": {},
     "output_type": "execute_result"
    }
   ],
   "source": [
    "chips_dataset.head()"
   ]
  },
  {
   "cell_type": "code",
   "execution_count": 12,
   "metadata": {},
   "outputs": [
    {
     "data": {
      "text/plain": [
       "x        float64\n",
       "y        float64\n",
       "class     object\n",
       "dtype: object"
      ]
     },
     "execution_count": 12,
     "metadata": {},
     "output_type": "execute_result"
    }
   ],
   "source": [
    "chips_dataset.dtypes"
   ]
  },
  {
   "cell_type": "code",
   "execution_count": 13,
   "metadata": {},
   "outputs": [
    {
     "data": {
      "text/html": [
       "<div>\n",
       "<style scoped>\n",
       "    .dataframe tbody tr th:only-of-type {\n",
       "        vertical-align: middle;\n",
       "    }\n",
       "\n",
       "    .dataframe tbody tr th {\n",
       "        vertical-align: top;\n",
       "    }\n",
       "\n",
       "    .dataframe thead th {\n",
       "        text-align: right;\n",
       "    }\n",
       "</style>\n",
       "<table border=\"1\" class=\"dataframe\">\n",
       "  <thead>\n",
       "    <tr style=\"text-align: right;\">\n",
       "      <th></th>\n",
       "      <th>x</th>\n",
       "      <th>y</th>\n",
       "    </tr>\n",
       "  </thead>\n",
       "  <tbody>\n",
       "    <tr>\n",
       "      <th>count</th>\n",
       "      <td>118.000000</td>\n",
       "      <td>118.000000</td>\n",
       "    </tr>\n",
       "    <tr>\n",
       "      <th>mean</th>\n",
       "      <td>0.054779</td>\n",
       "      <td>0.183102</td>\n",
       "    </tr>\n",
       "    <tr>\n",
       "      <th>std</th>\n",
       "      <td>0.496654</td>\n",
       "      <td>0.519743</td>\n",
       "    </tr>\n",
       "    <tr>\n",
       "      <th>min</th>\n",
       "      <td>-0.830070</td>\n",
       "      <td>-0.769740</td>\n",
       "    </tr>\n",
       "    <tr>\n",
       "      <th>25%</th>\n",
       "      <td>-0.372120</td>\n",
       "      <td>-0.254385</td>\n",
       "    </tr>\n",
       "    <tr>\n",
       "      <th>50%</th>\n",
       "      <td>-0.006336</td>\n",
       "      <td>0.213455</td>\n",
       "    </tr>\n",
       "    <tr>\n",
       "      <th>75%</th>\n",
       "      <td>0.478970</td>\n",
       "      <td>0.646562</td>\n",
       "    </tr>\n",
       "    <tr>\n",
       "      <th>max</th>\n",
       "      <td>1.070900</td>\n",
       "      <td>1.108900</td>\n",
       "    </tr>\n",
       "  </tbody>\n",
       "</table>\n",
       "</div>"
      ],
      "text/plain": [
       "                x           y\n",
       "count  118.000000  118.000000\n",
       "mean     0.054779    0.183102\n",
       "std      0.496654    0.519743\n",
       "min     -0.830070   -0.769740\n",
       "25%     -0.372120   -0.254385\n",
       "50%     -0.006336    0.213455\n",
       "75%      0.478970    0.646562\n",
       "max      1.070900    1.108900"
      ]
     },
     "execution_count": 13,
     "metadata": {},
     "output_type": "execute_result"
    }
   ],
   "source": [
    "chips_dataset.describe()"
   ]
  },
  {
   "cell_type": "code",
   "execution_count": 14,
   "metadata": {},
   "outputs": [],
   "source": [
    "chips_ds_targets = chips_dataset['class'].unique()\n",
    "chips_ds_digit_targets = [-1, 1]"
   ]
  },
  {
   "cell_type": "code",
   "execution_count": 15,
   "metadata": {},
   "outputs": [],
   "source": [
    "chips_ds_x = chips_dataset.drop('class', axis='columns')\n",
    "chips_ds_y = chips_dataset['class']"
   ]
  },
  {
   "cell_type": "code",
   "execution_count": 16,
   "metadata": {},
   "outputs": [
    {
     "data": {
      "text/plain": [
       "count    118.000000\n",
       "mean       0.016949\n",
       "std        1.004120\n",
       "min       -1.000000\n",
       "25%       -1.000000\n",
       "50%        1.000000\n",
       "75%        1.000000\n",
       "max        1.000000\n",
       "Name: class, dtype: float64"
      ]
     },
     "execution_count": 16,
     "metadata": {},
     "output_type": "execute_result"
    }
   ],
   "source": [
    "chips_ds_y_digits = chips_ds_y.replace(chips_ds_targets, chips_ds_digit_targets)\n",
    "chips_ds_y_digits.describe()"
   ]
  },
  {
   "cell_type": "code",
   "execution_count": 17,
   "metadata": {},
   "outputs": [
    {
     "data": {
      "text/html": [
       "<div>\n",
       "<style scoped>\n",
       "    .dataframe tbody tr th:only-of-type {\n",
       "        vertical-align: middle;\n",
       "    }\n",
       "\n",
       "    .dataframe tbody tr th {\n",
       "        vertical-align: top;\n",
       "    }\n",
       "\n",
       "    .dataframe thead th {\n",
       "        text-align: right;\n",
       "    }\n",
       "</style>\n",
       "<table border=\"1\" class=\"dataframe\">\n",
       "  <thead>\n",
       "    <tr style=\"text-align: right;\">\n",
       "      <th></th>\n",
       "      <th>x</th>\n",
       "      <th>y</th>\n",
       "    </tr>\n",
       "  </thead>\n",
       "  <tbody>\n",
       "    <tr>\n",
       "      <th>count</th>\n",
       "      <td>1.180000e+02</td>\n",
       "      <td>1.180000e+02</td>\n",
       "    </tr>\n",
       "    <tr>\n",
       "      <th>mean</th>\n",
       "      <td>2.258081e-17</td>\n",
       "      <td>5.927462e-17</td>\n",
       "    </tr>\n",
       "    <tr>\n",
       "      <th>std</th>\n",
       "      <td>1.000000e+00</td>\n",
       "      <td>1.000000e+00</td>\n",
       "    </tr>\n",
       "    <tr>\n",
       "      <th>min</th>\n",
       "      <td>-1.781621e+00</td>\n",
       "      <td>-1.833294e+00</td>\n",
       "    </tr>\n",
       "    <tr>\n",
       "      <th>25%</th>\n",
       "      <td>-8.595503e-01</td>\n",
       "      <td>-8.417365e-01</td>\n",
       "    </tr>\n",
       "    <tr>\n",
       "      <th>50%</th>\n",
       "      <td>-1.230541e-01</td>\n",
       "      <td>5.840087e-02</td>\n",
       "    </tr>\n",
       "    <tr>\n",
       "      <th>75%</th>\n",
       "      <td>8.540982e-01</td>\n",
       "      <td>8.917119e-01</td>\n",
       "    </tr>\n",
       "    <tr>\n",
       "      <th>max</th>\n",
       "      <td>2.045934e+00</td>\n",
       "      <td>1.781262e+00</td>\n",
       "    </tr>\n",
       "  </tbody>\n",
       "</table>\n",
       "</div>"
      ],
      "text/plain": [
       "                  x             y\n",
       "count  1.180000e+02  1.180000e+02\n",
       "mean   2.258081e-17  5.927462e-17\n",
       "std    1.000000e+00  1.000000e+00\n",
       "min   -1.781621e+00 -1.833294e+00\n",
       "25%   -8.595503e-01 -8.417365e-01\n",
       "50%   -1.230541e-01  5.840087e-02\n",
       "75%    8.540982e-01  8.917119e-01\n",
       "max    2.045934e+00  1.781262e+00"
      ]
     },
     "execution_count": 17,
     "metadata": {},
     "output_type": "execute_result"
    }
   ],
   "source": [
    "chips_ds_x_offset = chips_ds_x.mean()\n",
    "chips_ds_x_scale = chips_ds_x.std()\n",
    "chips_ds_x_norm = (chips_ds_x - chips_ds_x_offset) / chips_ds_x_scale\n",
    "chips_ds_x_norm.describe()"
   ]
  },
  {
   "cell_type": "code",
   "execution_count": 18,
   "metadata": {},
   "outputs": [
    {
     "data": {
      "text/plain": [
       "False"
      ]
     },
     "execution_count": 18,
     "metadata": {},
     "output_type": "execute_result"
    }
   ],
   "source": [
    "chips_ds_x_norm.isna().values.any()"
   ]
  },
  {
   "cell_type": "markdown",
   "metadata": {},
   "source": [
    "# Train SVM"
   ]
  },
  {
   "cell_type": "markdown",
   "metadata": {},
   "source": [
    "#### V1"
   ]
  },
  {
   "cell_type": "code",
   "execution_count": 161,
   "metadata": {},
   "outputs": [],
   "source": [
    "def train_svm(x_data, y_data, kernel_f, kernel_p, c, epochs=5, eps=1e-3):\n",
    "    alphas = np.random.randn(len(x_data)).reshape(-1, 1)\n",
    "#     w0 = random.random()\n",
    "    w0 = 0\n",
    "    \n",
    "    errors_cache = recalculate_errors_cache(x_data, y_data, kernel_f, kernel_p, alphas, w0)\n",
    "    \n",
    "    for _ in range(epochs):\n",
    "        num_updates = 0\n",
    "        for i in range(len(x_data)):\n",
    "            # choose second example for optimization\n",
    "#             j = choose_j(i, errors_cache)\n",
    "            j = i - 1\n",
    "            if i == j:\n",
    "                continue\n",
    "                \n",
    "            # current step data\n",
    "            x1, x2 = x_data[i], x_data[j]\n",
    "            y1, y2 = y_data[i], y_data[j]\n",
    "            a1, a2 = alphas[i], alphas[j]\n",
    "\n",
    "            # errors\n",
    "#             error1 = errors_cache[i]\n",
    "#             error2 = errors_cache[j]\n",
    "            error1 = calculate_error(predict(x1, x_data, y_data, kernel_f, alphas, w0, kernel_p), y1)\n",
    "            error2 = calculate_error(predict(x2, x_data, y_data, kernel_f, alphas, w0, kernel_p), y2)\n",
    "            \n",
    "            # calculate derivative and assert it is more than zero\n",
    "            d = calculate_derivative(x1, x2, kernel_f, kernel_p)\n",
    "            assert d >= 0\n",
    "\n",
    "            # bounds\n",
    "            l, h = calculate_bounds(a1, a2, c, y1, y2)\n",
    "\n",
    "            # update alpha2\n",
    "            a2_new = a2 + y2 * (error1 - error2) / (d + 1e-5)\n",
    "            a2_new_clipped = max(l, min(h, a2_new))\n",
    "            \n",
    "            if abs(a2_new_clipped - a2) < eps * (a2 + a2_new_clipped + eps):\n",
    "                continue\n",
    "\n",
    "            # update alpha1\n",
    "            a1_new = a1 + y1 * y2 * (a2 - a2_new_clipped)\n",
    "        \n",
    "            # store new alphas\n",
    "            alphas[i], alphas[j] = a1_new, a2_new_clipped\n",
    "            num_updates += 1\n",
    "\n",
    "            # calculate weights and update threshold\n",
    "            weights = (alphas * y_data * x_data).sum(axis=0)\n",
    "            for x, y, alpha in zip(x_data, y_data, alphas):\n",
    "                if alpha > 0 and alpha < c:\n",
    "#                     w0 = x.dot(weights) - y\n",
    "                    break\n",
    "                    \n",
    "            # recalculate errors cache\n",
    "#             errors_cache = recalculate_errors_cache(x_data, y_data, kernel_f, kernel_p, alphas, w0)\n",
    "        \n",
    "        if num_updates == 0:\n",
    "            break\n",
    "    \n",
    "    return alphas, w0\n",
    "    \n",
    "def predict(x_t, x_data, y_data, kernel_f, alphas, w0, kernel_p=1):\n",
    "    p = 0\n",
    "    for x, y, a in zip(x_data, y_data, alphas):\n",
    "        p += y * a * kernel_f(x_t, x, kernel_p) - w0        \n",
    "    return p\n",
    "\n",
    "\n",
    "def calculate_error(p, y):\n",
    "    return p - y\n",
    "\n",
    "\n",
    "def recalculate_errors_cache(x_data, y_data, kernel_f, kernel_p, alphas, w0):\n",
    "    errors = []\n",
    "    for i in range(len(x_data)):\n",
    "        p_i = predict(x_data[i], x_data, y_data, kernel_f, alphas, w0, kernel_p)\n",
    "        error_i = calculate_error(p_i, y_data[i])\n",
    "        errors.append(error_i)\n",
    "    \n",
    "    return errors\n",
    "\n",
    "\n",
    "def choose_j(i, errors_cache):\n",
    "    error_i = errors_cache[i]\n",
    "    if error_i > 0:\n",
    "        return np.argmin(errors_cache)\n",
    "    else:\n",
    "        return np.argmax(errors_cache)\n",
    "    \n",
    "    \n",
    "def calculate_derivative(x1, x2, kernel_f, kernel_p):\n",
    "    return kernel_f(x1, x1, kernel_p) + kernel_f(x2, x2, kernel_p) - 2 * kernel_f(x1, x2, kernel_p)\n",
    "    \n",
    "\n",
    "def calculate_bounds(a1, a2, c, y1, y2):\n",
    "    if y1 != y2:\n",
    "        l = max(0, a2 - a1)\n",
    "        h = min(c, c + a2 - a1)\n",
    "    else:\n",
    "        l = max(0, a2 + a1 - c)\n",
    "        h = min(c, a2 + a1)\n",
    "    return l, h"
   ]
  },
  {
   "cell_type": "markdown",
   "metadata": {},
   "source": [
    "#### V2  https://www.microsoft.com/en-us/research/wp-content/uploads/2016/02/tr-98-14.pdf"
   ]
  },
  {
   "cell_type": "code",
   "execution_count": 30,
   "metadata": {},
   "outputs": [],
   "source": [
    "def train_svm_v2(x_data, y_data, alphas, kernel_f, kernel_p, c, w0):\n",
    "    errors = [0] * len(x_data)\n",
    "    \n",
    "    num_changed = 0\n",
    "    examine_all = True\n",
    "    \n",
    "    while num_changed > 0 or examine_all:\n",
    "        num_changed = 0\n",
    "        \n",
    "        if examine_all:\n",
    "            for i in range(len(x_data)):\n",
    "                num_changed += examine_example(i)\n",
    "        else:\n",
    "            for i in range(len(x_data)):\n",
    "                alpha_i = alphas[i]\n",
    "                if alpha_i != 0 and alpha_i != c:\n",
    "                    num_changed += examine_example(i, x_data, y_data, errors, alphas, kernel_f, kernel_p, c, w0)\n",
    "        \n",
    "        if examine_all:\n",
    "            examine_all = False\n",
    "        elif num_changed == 0:\n",
    "            examine_all = True\n",
    "        \n",
    "        \n",
    "def examine_example(i, x_data, y_data, alphas, errors, kernel_f, kernel_p, c, w0, tol=1e-3):\n",
    "    x_i = x_data[i]\n",
    "    y_i = y_data[i]\n",
    "    alpha_i = alphas[i]\n",
    "    \n",
    "    p_i = predict(x_i, x_data, y_data, kernel_f, alphas, w0, kernel_p)\n",
    "    error_i = calculate_error(p_i, y_i)\n",
    "    \n",
    "    # store errors in cache\n",
    "    errors[i] = error_i\n",
    "    \n",
    "    r_i = y_i * error_i\n",
    "    \n",
    "    if (r_i < -tol and alpha_i < c) or (r_i > tol and alpha_i > 0):\n",
    "        j = choose_second_example(i, errors, alphas, c)\n",
    "        if take_step(i, j, error_i):\n",
    "            return 1\n",
    "    \n",
    "\n",
    "def choose_second_example(i, errors):\n",
    "    error_i = errors[i]\n",
    "    j_chosen = -1\n",
    "    if error_i > 0:\n",
    "        min_error = sys.maxsize\n",
    "        for j in range(len(errors)):\n",
    "            error_j = errors[j]\n",
    "            if error_j < min_error:\n",
    "                j_chosen = j\n",
    "                min_error = error_j\n",
    "        \n",
    "        return\n",
    "    else:\n",
    "        max_error = -sys.maxsize\n",
    "        for j in range(len(errors)):\n",
    "            error_j = errors[j]\n",
    "            if error_j > max_error:\n",
    "                j_chosen = j\n",
    "                max_error = error_j\n",
    "        \n",
    "    assert j_chosen != -1\n",
    "    return j_chosen\n",
    "    \n",
    "\n",
    "def take_step(i, j, error_i, x_data, y_data, alphas, errors, kernel_f, kernel_p, c, w0, eps=1e-3):\n",
    "    if i == j:\n",
    "        return False\n",
    "    \n",
    "    alpha_i, alpha_j = alphas[i], alphas[j]\n",
    "    x_i, x_j = x_data[i], x_data[j]\n",
    "    y_i, y_j = y_data[i], y_data[j]\n",
    "    \n",
    "    p_j = predict(x_j, x_data, y_data, kernel_f, alphas, w0, kernel_p)\n",
    "    error_j = calculate_error(p_j, y_j)\n",
    "    \n",
    "    l, h = calculate_bounds(alpha_j, alpha_i, c, y_j, y_i)\n",
    "    \n",
    "    d = calculate_derivative(x_j, x_i, kernel_f, kernel_p)\n",
    "    \n",
    "    assert d > 0\n",
    "    \n",
    "    # update alpha_i\n",
    "    alpha_i_new = alpha_i + y_i * (error_j - error_i) / (d + 1e-5)\n",
    "    alpha_i_new_clipped = max(l, min(h, alpha_i_new))\n",
    "    \n",
    "    if abs(alpha_i_new_clipped - alpha_i) < eps * (alpha_i + alpha_i_new_clipped + eps):\n",
    "        return False\n",
    "    \n",
    "    # update alpha_j\n",
    "    alpha_j_new = alpha_j + y_j * y_i * (alpha_i - alpha_i_new_clipped)\n",
    "    \n",
    "    # update threshold\n",
    "    j_is_valid = alpha_j_new <= 0 or alpha_j_new >= c\n",
    "    i_is_valid = alpha_i_new_clipped <= 0 or alpha_i_new_clipped >= c\n",
    "    \n",
    "    w0_j = (error_j + y_j * (alpha_j_new - alpha_j) * kernel_f(x_j, x_j, kernel_p) \n",
    "            + y_i * (alpha_i_new_clipped - alpha_i) * kernel_f(x_j, x_i, kernel_p) + w0)\n",
    "    w0_i = (error_i + y_j * (alpha_j_new - alpha_j) * kernel_f(x_j, x_i, kernel_p) \n",
    "            + y_i * (alpha_i_new_clipped - alpha_i) * kernel_f(x_i, x_i, kernel_p) + w0)\n",
    "    \n",
    "    if not j_is_valid and not i_is_valid:\n",
    "        w0_new = (w0_i + w0_j) / 2\n",
    "    else:\n",
    "        w0_new = w0_j if j_is_valid else w0_i\n",
    "    \n",
    "    w_new = w + y_j * (alpha_j_new - alpha_j) * x_j + y_i * (alpha_i_new_clipped - alpha_i) * x_i\n",
    "    \n",
    "    pass\n",
    " "
   ]
  },
  {
   "cell_type": "markdown",
   "metadata": {},
   "source": [
    "#### Kernel functions"
   ]
  },
  {
   "cell_type": "code",
   "execution_count": 76,
   "metadata": {},
   "outputs": [],
   "source": [
    "def linear_kernel(x1, x2, fake_param=1):\n",
    "    return x1.dot(x2)\n",
    "\n",
    "\n",
    "def polynomial_kernel(x1, x2, power=1):\n",
    "    return (x1.dot(x2) + 1) ** power\n",
    "\n",
    "\n",
    "def gaussian_radial_kernel(x1, x2, phi=1):\n",
    "    x_diff = x1 - x2\n",
    "    return math.exp(-phi * x_diff.dot(x_diff))"
   ]
  },
  {
   "cell_type": "markdown",
   "metadata": {},
   "source": [
    "#### Loss functions"
   ]
  },
  {
   "cell_type": "code",
   "execution_count": 87,
   "metadata": {},
   "outputs": [],
   "source": [
    "def calculate_accuracy(y_predicted, y_test):\n",
    "    return (y_predicted * y_test > 0).sum() / len(y_test)"
   ]
  },
  {
   "cell_type": "markdown",
   "metadata": {},
   "source": [
    "### Geyser dataset"
   ]
  },
  {
   "cell_type": "code",
   "execution_count": 101,
   "metadata": {},
   "outputs": [],
   "source": [
    "def examine_kernel(ds_x, ds_y, kernel_f, c, kernel_param=1):\n",
    "    k_folds = 5\n",
    "    ds_size = len(geyser_ds_x_norm)\n",
    "    fold_size = int(ds_size / k_folds)\n",
    "\n",
    "    test_errors = []\n",
    "\n",
    "    for i in range(0, len(geyser_ds_x_norm), fold_size):\n",
    "        test_indices = list(range(i, min(ds_size, i + fold_size), 1))\n",
    "\n",
    "        x_train = geyser_ds_x_norm.drop(test_indices, axis='index').values\n",
    "        y_train = geyser_ds_y_digits.drop(test_indices, axis='index').values.reshape(-1, 1)\n",
    "        x_test = geyser_ds_x_norm.iloc[test_indices].values\n",
    "        y_test = geyser_ds_y_digits.iloc[test_indices].values.reshape(-1, 1)\n",
    "\n",
    "        alphas, w0 = train_svm(x_train, y_train, kernel_f, kernel_param, c, epochs=1)\n",
    "\n",
    "        y_ps = []\n",
    "        for x_t in x_test:\n",
    "            y_p = predict(x_t, x_train, y_train, kernel_f, alphas, w0, kernel_param)\n",
    "            y_ps.append(y_p)\n",
    "\n",
    "        test_errors.append(calculate_accuracy(np.array(y_ps), y_test))\n",
    "    \n",
    "    return alphas, w0\n",
    "\n",
    "    print('C: {} | Kernel param: {} | Mean error: {}'.format(c, kernel_param, np.array(test_errors).mean()))"
   ]
  },
  {
   "cell_type": "code",
   "execution_count": 89,
   "metadata": {},
   "outputs": [
    {
     "name": "stdout",
     "output_type": "stream",
     "text": [
      "C: 0.05 | Kernel param: 1 | Mean error: 0.9015151515151515\n",
      "C: 0.1 | Kernel param: 1 | Mean error: 0.8939393939393939\n",
      "C: 0.5 | Kernel param: 1 | Mean error: 0.9053030303030303\n",
      "C: 1.0 | Kernel param: 1 | Mean error: 0.8939393939393939\n",
      "C: 5.0 | Kernel param: 1 | Mean error: 0.8901515151515151\n",
      "C: 10.0 | Kernel param: 1 | Mean error: 0.912878787878788\n",
      "C: 50.0 | Kernel param: 1 | Mean error: 0.8977272727272728\n",
      "C: 100.0 | Kernel param: 1 | Mean error: 0.8636363636363636\n"
     ]
    }
   ],
   "source": [
    "cs = [0.05, 0.1, 0.5, 1.0, 5.0, 10.0, 50.0, 100.0]\n",
    "for c in cs:\n",
    "    examine_kernel(geyser_ds_x_norm, geyser_ds_y_digits, linear_kernel, c)"
   ]
  },
  {
   "cell_type": "code",
   "execution_count": 90,
   "metadata": {},
   "outputs": [
    {
     "name": "stdout",
     "output_type": "stream",
     "text": [
      "C: 0.05 | Kernel param: 2 | Mean error: 0.8522727272727272\n",
      "C: 0.05 | Kernel param: 3 | Mean error: 0.9053030303030303\n",
      "C: 0.05 | Kernel param: 4 | Mean error: 0.9166666666666666\n",
      "C: 0.05 | Kernel param: 5 | Mean error: 0.8787878787878788\n",
      "C: 0.1 | Kernel param: 2 | Mean error: 0.8068181818181818\n",
      "C: 0.1 | Kernel param: 3 | Mean error: 0.9053030303030303\n",
      "C: 0.1 | Kernel param: 4 | Mean error: 0.9053030303030303\n",
      "C: 0.1 | Kernel param: 5 | Mean error: 0.8825757575757577\n",
      "C: 0.5 | Kernel param: 2 | Mean error: 0.912878787878788\n",
      "C: 0.5 | Kernel param: 3 | Mean error: 0.9015151515151515\n",
      "C: 0.5 | Kernel param: 4 | Mean error: 0.8939393939393939\n",
      "C: 0.5 | Kernel param: 5 | Mean error: 0.8939393939393939\n",
      "C: 1.0 | Kernel param: 2 | Mean error: 0.8484848484848485\n",
      "C: 1.0 | Kernel param: 3 | Mean error: 0.8863636363636364\n",
      "C: 1.0 | Kernel param: 4 | Mean error: 0.875\n",
      "C: 1.0 | Kernel param: 5 | Mean error: 0.8825757575757577\n",
      "C: 5.0 | Kernel param: 2 | Mean error: 0.8409090909090909\n",
      "C: 5.0 | Kernel param: 3 | Mean error: 0.8787878787878788\n",
      "C: 5.0 | Kernel param: 4 | Mean error: 0.8636363636363636\n",
      "C: 5.0 | Kernel param: 5 | Mean error: 0.9015151515151515\n",
      "C: 10.0 | Kernel param: 2 | Mean error: 0.9166666666666666\n",
      "C: 10.0 | Kernel param: 3 | Mean error: 0.9090909090909092\n",
      "C: 10.0 | Kernel param: 4 | Mean error: 0.8295454545454545\n",
      "C: 10.0 | Kernel param: 5 | Mean error: 0.9166666666666666\n",
      "C: 50.0 | Kernel param: 2 | Mean error: 0.9090909090909092\n",
      "C: 50.0 | Kernel param: 3 | Mean error: 0.9015151515151515\n",
      "C: 50.0 | Kernel param: 4 | Mean error: 0.9053030303030303\n",
      "C: 50.0 | Kernel param: 5 | Mean error: 0.8863636363636364\n",
      "C: 100.0 | Kernel param: 2 | Mean error: 0.8446969696969697\n",
      "C: 100.0 | Kernel param: 3 | Mean error: 0.9053030303030303\n",
      "C: 100.0 | Kernel param: 4 | Mean error: 0.8636363636363636\n",
      "C: 100.0 | Kernel param: 5 | Mean error: 0.8409090909090909\n"
     ]
    }
   ],
   "source": [
    "cs = [0.05, 0.1, 0.5, 1.0, 5.0, 10.0, 50.0, 100.0]\n",
    "powers = [2, 3, 4, 5]\n",
    "for c in cs:\n",
    "    for power in powers:\n",
    "        examine_kernel(geyser_ds_x_norm, geyser_ds_y_digits, polynomial_kernel, c, power)"
   ]
  },
  {
   "cell_type": "code",
   "execution_count": 91,
   "metadata": {},
   "outputs": [
    {
     "name": "stdout",
     "output_type": "stream",
     "text": [
      "C: 0.05 | Kernel param: 1 | Mean error: 0.8825757575757577\n",
      "C: 0.05 | Kernel param: 2 | Mean error: 0.9242424242424243\n",
      "C: 0.05 | Kernel param: 3 | Mean error: 0.9090909090909091\n",
      "C: 0.05 | Kernel param: 4 | Mean error: 0.9166666666666666\n",
      "C: 0.05 | Kernel param: 5 | Mean error: 0.8939393939393939\n",
      "C: 0.1 | Kernel param: 1 | Mean error: 0.912878787878788\n",
      "C: 0.1 | Kernel param: 2 | Mean error: 0.912878787878788\n",
      "C: 0.1 | Kernel param: 3 | Mean error: 0.9204545454545454\n",
      "C: 0.1 | Kernel param: 4 | Mean error: 0.9090909090909092\n",
      "C: 0.1 | Kernel param: 5 | Mean error: 0.9053030303030303\n",
      "C: 0.5 | Kernel param: 1 | Mean error: 0.912878787878788\n",
      "C: 0.5 | Kernel param: 2 | Mean error: 0.912878787878788\n",
      "C: 0.5 | Kernel param: 3 | Mean error: 0.9242424242424243\n",
      "C: 0.5 | Kernel param: 4 | Mean error: 0.9090909090909092\n",
      "C: 0.5 | Kernel param: 5 | Mean error: 0.9204545454545454\n",
      "C: 1.0 | Kernel param: 1 | Mean error: 0.9015151515151515\n",
      "C: 1.0 | Kernel param: 2 | Mean error: 0.912878787878788\n",
      "C: 1.0 | Kernel param: 3 | Mean error: 0.912878787878788\n",
      "C: 1.0 | Kernel param: 4 | Mean error: 0.9166666666666666\n",
      "C: 1.0 | Kernel param: 5 | Mean error: 0.9090909090909091\n",
      "C: 5.0 | Kernel param: 1 | Mean error: 0.9166666666666666\n",
      "C: 5.0 | Kernel param: 2 | Mean error: 0.912878787878788\n",
      "C: 5.0 | Kernel param: 3 | Mean error: 0.9204545454545454\n",
      "C: 5.0 | Kernel param: 4 | Mean error: 0.912878787878788\n",
      "C: 5.0 | Kernel param: 5 | Mean error: 0.9053030303030303\n",
      "C: 10.0 | Kernel param: 1 | Mean error: 0.9166666666666666\n",
      "C: 10.0 | Kernel param: 2 | Mean error: 0.8484848484848485\n",
      "C: 10.0 | Kernel param: 3 | Mean error: 0.8825757575757577\n",
      "C: 10.0 | Kernel param: 4 | Mean error: 0.9090909090909092\n",
      "C: 10.0 | Kernel param: 5 | Mean error: 0.9053030303030303\n",
      "C: 50.0 | Kernel param: 1 | Mean error: 0.9166666666666666\n",
      "C: 50.0 | Kernel param: 2 | Mean error: 0.8674242424242425\n",
      "C: 50.0 | Kernel param: 3 | Mean error: 0.9090909090909091\n",
      "C: 50.0 | Kernel param: 4 | Mean error: 0.9166666666666666\n",
      "C: 50.0 | Kernel param: 5 | Mean error: 0.9090909090909092\n",
      "C: 100.0 | Kernel param: 1 | Mean error: 0.9090909090909091\n",
      "C: 100.0 | Kernel param: 2 | Mean error: 0.912878787878788\n",
      "C: 100.0 | Kernel param: 3 | Mean error: 0.9166666666666666\n",
      "C: 100.0 | Kernel param: 4 | Mean error: 0.9090909090909092\n",
      "C: 100.0 | Kernel param: 5 | Mean error: 0.8825757575757577\n"
     ]
    }
   ],
   "source": [
    "cs = [0.05, 0.1, 0.5, 1.0, 5.0, 10.0, 50.0, 100.0]\n",
    "phis = [1, 2, 3, 4, 5]\n",
    "for c in cs:\n",
    "    for phi in phis:\n",
    "        examine_kernel(geyser_ds_x_norm, geyser_ds_y_digits, gaussian_radial_kernel, c, phi)"
   ]
  },
  {
   "cell_type": "markdown",
   "metadata": {},
   "source": [
    "### Best kernel params"
   ]
  },
  {
   "cell_type": "code",
   "execution_count": 102,
   "metadata": {},
   "outputs": [],
   "source": [
    "alphas_lin, w0_lin = examine_kernel(geyser_ds_x_norm, geyser_ds_y_digits, linear_kernel, c=0.5)"
   ]
  },
  {
   "cell_type": "code",
   "execution_count": 103,
   "metadata": {},
   "outputs": [],
   "source": [
    "alphas_pol, w0_pol = examine_kernel(geyser_ds_x_norm, geyser_ds_y_digits, polynomial_kernel, c=0.5, kernel_param=3)"
   ]
  },
  {
   "cell_type": "code",
   "execution_count": 104,
   "metadata": {},
   "outputs": [],
   "source": [
    "alphas_gaus, w0_gaus = examine_kernel(geyser_ds_x_norm, geyser_ds_y_digits, gaussian_radial_kernel, c=5.0, kernel_param=3)"
   ]
  },
  {
   "cell_type": "markdown",
   "metadata": {},
   "source": [
    "### Plot hyperplane"
   ]
  },
  {
   "cell_type": "code",
   "execution_count": 168,
   "metadata": {},
   "outputs": [],
   "source": [
    "def plot_hyperplane(x_data, y_data, kernel_f, kernel_p, alphas, w0, c):\n",
    "    hyperplane_1_dim = []\n",
    "    hyperplane_2_dim = []\n",
    "    \n",
    "    y_ps = []\n",
    "    for x_t, alpha, y in zip(x_data, alphas, y_data):\n",
    "        y_p = predict(x_t, x_data, y_data, kernel_f, alphas, w0, kernel_p)\n",
    "        y_ps.append(y_p)\n",
    "                \n",
    "        if y_p * y < 0:\n",
    "            hyperplane_1_dim.append(x_t[0])\n",
    "            hyperplane_2_dim.append(x_t[1])\n",
    "        \n",
    "    x_1_dim = x_data[:, 0]\n",
    "    x_2_dim = x_data[:, 1]\n",
    "    \n",
    "    plt.scatter(x_1_dim, x_2_dim)\n",
    "    plt.scatter(hyperplane_1_dim, hyperplane_2_dim)"
   ]
  },
  {
   "cell_type": "code",
   "execution_count": 169,
   "metadata": {},
   "outputs": [
    {
     "data": {
      "image/png": "[encoded data removed]",
      "text/plain": [
       "<Figure size 432x288 with 1 Axes>"
      ]
     },
     "metadata": {
      "needs_background": "light"
     },
     "output_type": "display_data"
    }
   ],
   "source": [
    "plot_hyperplane(geyser_ds_x_norm.values, geyser_ds_y_digits.values, linear_kernel, 1, alphas_lin, w0_lin, c=0.5)"
   ]
  },
  {
   "cell_type": "code",
   "execution_count": null,
   "metadata": {},
   "outputs": [],
   "source": []
  }
 ],
 "metadata": {
  "kernelspec": {
   "display_name": "Python 3",
   "language": "python",
   "name": "python3"
  },
  "language_info": {
   "codemirror_mode": {
    "name": "ipython",
    "version": 3
   },
   "file_extension": ".py",
   "mimetype": "text/x-python",
   "name": "python",
   "nbconvert_exporter": "python",
   "pygments_lexer": "ipython3",
   "version": "3.6.9"
  }
 },
 "nbformat": 4,
 "nbformat_minor": 2
}
